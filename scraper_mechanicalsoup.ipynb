{
 "cells": [
  {
   "cell_type": "markdown",
   "metadata": {
    "id": "ZhPepuU0cQXT"
   },
   "source": [
    "# Scraping di immagini da GoogleImages\n",
    "\n",
    "Questo Notebook contiene uno script che permette di scaricare immagini da google immagini data una determinata query.\n",
    "\n",
    "#Import\n",
    "\n",
    "Importo mechanicalsoup come libreria da cui prendere l'oggetto browser: stateful browser.\n",
    "\n",
    "Importo wget per gestire il download e os per creare le directory."
   ]
  },
  {
   "cell_type": "code",
   "execution_count": 17,
   "metadata": {
    "colab": {
     "base_uri": "https://localhost:8080/"
    },
    "id": "Do1CSw6OcEfI",
    "outputId": "674397e2-0a42-498d-8908-4fe050dc221a"
   },
   "outputs": [
    {
     "name": "stdout",
     "output_type": "stream",
     "text": [
      "Requirement already satisfied: mechanicalsoup in /Users/robertozanolli/anaconda3/envs/SN24/lib/python3.11/site-packages (1.2.0)\n",
      "Requirement already satisfied: requests>=2.22.0 in /Users/robertozanolli/anaconda3/envs/SN24/lib/python3.11/site-packages (from mechanicalsoup) (2.32.3)\n",
      "Requirement already satisfied: beautifulsoup4>=4.7 in /Users/robertozanolli/anaconda3/envs/SN24/lib/python3.11/site-packages (from mechanicalsoup) (4.12.3)\n",
      "Requirement already satisfied: lxml in /Users/robertozanolli/anaconda3/envs/SN24/lib/python3.11/site-packages (from mechanicalsoup) (5.2.1)\n",
      "Requirement already satisfied: soupsieve>1.2 in /Users/robertozanolli/anaconda3/envs/SN24/lib/python3.11/site-packages (from beautifulsoup4>=4.7->mechanicalsoup) (2.5)\n",
      "Requirement already satisfied: charset-normalizer<4,>=2 in /Users/robertozanolli/anaconda3/envs/SN24/lib/python3.11/site-packages (from requests>=2.22.0->mechanicalsoup) (3.3.2)\n",
      "Requirement already satisfied: idna<4,>=2.5 in /Users/robertozanolli/anaconda3/envs/SN24/lib/python3.11/site-packages (from requests>=2.22.0->mechanicalsoup) (3.7)\n",
      "Requirement already satisfied: urllib3<3,>=1.21.1 in /Users/robertozanolli/anaconda3/envs/SN24/lib/python3.11/site-packages (from requests>=2.22.0->mechanicalsoup) (2.2.2)\n",
      "Requirement already satisfied: certifi>=2017.4.17 in /Users/robertozanolli/anaconda3/envs/SN24/lib/python3.11/site-packages (from requests>=2.22.0->mechanicalsoup) (2024.8.30)\n",
      "Requirement already satisfied: wget in /Users/robertozanolli/anaconda3/envs/SN24/lib/python3.11/site-packages (3.2)\n"
     ]
    }
   ],
   "source": [
    "!pip install mechanicalsoup\n",
    "!pip install wget\n",
    "\n",
    "import mechanicalsoup as ms\n",
    "import os\n",
    "import wget"
   ]
  },
  {
   "cell_type": "markdown",
   "metadata": {
    "id": "FgHyTP5gv5PV"
   },
   "source": [
    "# Creazione dell'oggetto Browser\n",
    "\n",
    "L'oggetto browser può essere Browser() o StatefulBrowser().\n"
   ]
  },
  {
   "cell_type": "code",
   "execution_count": 18,
   "metadata": {
    "id": "wiY1zmaWcqX3"
   },
   "outputs": [
    {
     "name": "stdout",
     "output_type": "stream",
     "text": [
      "Page retrieved!\n"
     ]
    }
   ],
   "source": [
    "url = \"https://images.google.com/\"\n",
    "browser = ms.StatefulBrowser()\n",
    "\n",
    "#prendo l'html della pagina all'url desiderato\n",
    "page = browser.get(url)\n",
    "\n",
    "#per essere sicuro di aver raggiunto la pagina faccio controllo\n",
    "if page.ok:\n",
    "  print(\"Page retrieved!\")\n"
   ]
  },
  {
   "cell_type": "markdown",
   "metadata": {
    "id": "o9YtytIiwTsD"
   },
   "source": [
    "# Parsing dell'HTML in ricerca di oggetti desiderati\n",
    "\n",
    "MechanicalSoup permette (attraverso find() e findall() ) di cercare determinati tag html, come img e text."
   ]
  },
  {
   "cell_type": "code",
   "execution_count": 19,
   "metadata": {
    "id": "bIZRvigKwNL_"
   },
   "outputs": [],
   "source": [
    "\n",
    "soup = page.soup\n",
    "\n",
    "# trovare oggetto attraverso tag\n",
    "title_element = soup.find('title')\n",
    "\n",
    "# trovare oggetto attarverso classe\n",
    "paragraphs = soup.find_all('p', class_='paragraph-class')\n",
    "\n",
    "# trovare oggetto attraverso id\n",
    "header = soup.find(id='header-id')\n"
   ]
  },
  {
   "cell_type": "markdown",
   "metadata": {
    "id": "u-eAampl3xKt"
   },
   "source": [
    "# Ecco un esempio di scraper per immagini realizzati con ms\n"
   ]
  },
  {
   "cell_type": "code",
   "execution_count": 20,
   "metadata": {
    "colab": {
     "base_uri": "https://localhost:8080/"
    },
    "id": "Yltasvw336vi",
    "outputId": "c7d2c9f5-4928-47d2-c2a4-2a2dfbed0ccc"
   },
   "outputs": [
    {
     "name": "stderr",
     "output_type": "stream",
     "text": [
      "--2024-09-20 17:47:43--  https://www.google.com/search?q=gattini&tbm=isch&safe=off/images/branding/searchlogo/1x/googlelogo_desk_heirloom_color_150x55dp.gif\n",
      "Resolving www.google.com (www.google.com)... 142.250.180.164, 2a00:1450:4002:403::2004\n",
      "Connecting to www.google.com (www.google.com)|142.250.180.164|:443... connected.\n",
      "HTTP request sent, awaiting response... 200 OK\n",
      "Length: unspecified [text/html]\n",
      "Saving to: 'gattini_images/image_1.jpg'\n",
      "\n",
      "     0K .......... .......... ......                           92.0K=0.3s\n",
      "\n",
      "2024-09-20 17:47:43 (92.0 KB/s) - 'gattini_images/image_1.jpg' saved [27095]\n",
      "\n",
      "--2024-09-20 17:47:43--  https://encrypted-tbn0.gstatic.com/images?q=tbn:ANd9GcSasgy_hS13rCMa-VosllyBWbKKrcIFJCv4C4MHvd5yR4Lld4TLj6rkdopmlQ&s\n",
      "Resolving encrypted-tbn0.gstatic.com (encrypted-tbn0.gstatic.com)... 216.58.205.46, 2a00:1450:4002:416::200e\n",
      "Connecting to encrypted-tbn0.gstatic.com (encrypted-tbn0.gstatic.com)|216.58.205.46|:443... connected.\n"
     ]
    },
    {
     "name": "stdout",
     "output_type": "stream",
     "text": [
      "Immagine 1 scaricata con successo: https://www.google.com/search?q=gattini&tbm=isch&safe=off/images/branding/searchlogo/1x/googlelogo_desk_heirloom_color_150x55dp.gif\n"
     ]
    },
    {
     "name": "stderr",
     "output_type": "stream",
     "text": [
      "HTTP request sent, awaiting response... 200 OK\n",
      "Length: 4452 (4.3K) [image/jpeg]\n",
      "Saving to: 'gattini_images/image_2.jpg'\n",
      "\n",
      "     0K ....                                                  100% 11.9M=0s\n",
      "\n",
      "2024-09-20 17:47:44 (11.9 MB/s) - 'gattini_images/image_2.jpg' saved [4452/4452]\n",
      "\n",
      "--2024-09-20 17:47:44--  https://encrypted-tbn0.gstatic.com/images?q=tbn:ANd9GcSq7s2nkS88Yw4RIE0ImpaXqi0bTg4s1nnBrcwzcunm3tdJnk2-8TahSlF6ew&s\n",
      "Resolving encrypted-tbn0.gstatic.com (encrypted-tbn0.gstatic.com)... 216.58.205.46, 2a00:1450:4002:416::200e\n",
      "Connecting to encrypted-tbn0.gstatic.com (encrypted-tbn0.gstatic.com)|216.58.205.46|:443... connected.\n",
      "HTTP request sent, awaiting response... 200 OK\n",
      "Length: 2571 (2.5K) [image/jpeg]\n",
      "Saving to: 'gattini_images/image_3.jpg'\n",
      "\n",
      "     0K ..                                                    100% 32.3M=0s\n",
      "\n",
      "2024-09-20 17:47:44 (32.3 MB/s) - 'gattini_images/image_3.jpg' saved [2571/2571]\n",
      "\n",
      "--2024-09-20 17:47:44--  https://encrypted-tbn0.gstatic.com/images?q=tbn:ANd9GcS2gbt6tlXt-_i_I1G_a7AxxAtI-bm0nsQkHKvZ9PbIGcrKYNh-_hyufCRN8Q&s\n",
      "Resolving encrypted-tbn0.gstatic.com (encrypted-tbn0.gstatic.com)... 216.58.205.46, 2a00:1450:4002:416::200e\n",
      "Connecting to encrypted-tbn0.gstatic.com (encrypted-tbn0.gstatic.com)|216.58.205.46|:443... connected.\n"
     ]
    },
    {
     "name": "stdout",
     "output_type": "stream",
     "text": [
      "Immagine 2 scaricata con successo: https://encrypted-tbn0.gstatic.com/images?q=tbn:ANd9GcSasgy_hS13rCMa-VosllyBWbKKrcIFJCv4C4MHvd5yR4Lld4TLj6rkdopmlQ&s\n",
      "Immagine 3 scaricata con successo: https://encrypted-tbn0.gstatic.com/images?q=tbn:ANd9GcSq7s2nkS88Yw4RIE0ImpaXqi0bTg4s1nnBrcwzcunm3tdJnk2-8TahSlF6ew&s\n"
     ]
    },
    {
     "name": "stderr",
     "output_type": "stream",
     "text": [
      "HTTP request sent, awaiting response... 200 OK\n",
      "Length: 3790 (3.7K) [image/jpeg]\n",
      "Saving to: 'gattini_images/image_4.jpg'\n",
      "\n",
      "     0K ...                                                   100% 35.8M=0s\n",
      "\n",
      "2024-09-20 17:47:44 (35.8 MB/s) - 'gattini_images/image_4.jpg' saved [3790/3790]\n",
      "\n",
      "--2024-09-20 17:47:44--  https://encrypted-tbn0.gstatic.com/images?q=tbn:ANd9GcR90_XklUlMqIDEaoFkl4D-PyJeD_spZBFDjFMe72yvHVK2PA2Ngb1RPFqS3XA&s\n",
      "Resolving encrypted-tbn0.gstatic.com (encrypted-tbn0.gstatic.com)... 216.58.205.46, 2a00:1450:4002:416::200e\n",
      "Connecting to encrypted-tbn0.gstatic.com (encrypted-tbn0.gstatic.com)|216.58.205.46|:443... connected.\n"
     ]
    },
    {
     "name": "stdout",
     "output_type": "stream",
     "text": [
      "Immagine 4 scaricata con successo: https://encrypted-tbn0.gstatic.com/images?q=tbn:ANd9GcS2gbt6tlXt-_i_I1G_a7AxxAtI-bm0nsQkHKvZ9PbIGcrKYNh-_hyufCRN8Q&s\n"
     ]
    },
    {
     "name": "stderr",
     "output_type": "stream",
     "text": [
      "HTTP request sent, awaiting response... 200 OK\n",
      "Length: 5120 (5.0K) [image/jpeg]\n",
      "Saving to: 'gattini_images/image_5.jpg'\n",
      "\n",
      "     0K .....                                                 100% 17.3M=0s\n",
      "\n",
      "2024-09-20 17:47:44 (17.3 MB/s) - 'gattini_images/image_5.jpg' saved [5120/5120]\n",
      "\n",
      "--2024-09-20 17:47:44--  https://encrypted-tbn0.gstatic.com/images?q=tbn:ANd9GcSG33usRax0XzpNTLdePJxCmTOcNACa257L5kNQLlTUIduwXEPqfiNm_2OA3A&s\n",
      "Resolving encrypted-tbn0.gstatic.com (encrypted-tbn0.gstatic.com)... 216.58.205.46, 2a00:1450:4002:416::200e\n",
      "Connecting to encrypted-tbn0.gstatic.com (encrypted-tbn0.gstatic.com)|216.58.205.46|:443... connected.\n"
     ]
    },
    {
     "name": "stdout",
     "output_type": "stream",
     "text": [
      "Immagine 5 scaricata con successo: https://encrypted-tbn0.gstatic.com/images?q=tbn:ANd9GcR90_XklUlMqIDEaoFkl4D-PyJeD_spZBFDjFMe72yvHVK2PA2Ngb1RPFqS3XA&s\n"
     ]
    },
    {
     "name": "stderr",
     "output_type": "stream",
     "text": [
      "HTTP request sent, awaiting response... 200 OK\n",
      "Length: 4237 (4.1K) [image/jpeg]\n",
      "Saving to: 'gattini_images/image_6.jpg'\n",
      "\n",
      "     0K ....                                                  100% 19.5K=0.2s\n",
      "\n",
      "2024-09-20 17:47:44 (19.5 KB/s) - 'gattini_images/image_6.jpg' saved [4237/4237]\n",
      "\n",
      "--2024-09-20 17:47:44--  https://encrypted-tbn0.gstatic.com/images?q=tbn:ANd9GcTq5BWMnWOtTEJ8wQ1jOiYwsnvrGSe7XGNhXhBnrLtweHrhCo-V4UkrgFI2bA&s\n",
      "Resolving encrypted-tbn0.gstatic.com (encrypted-tbn0.gstatic.com)... 216.58.205.46, 2a00:1450:4002:416::200e\n",
      "Connecting to encrypted-tbn0.gstatic.com (encrypted-tbn0.gstatic.com)|216.58.205.46|:443... connected.\n"
     ]
    },
    {
     "name": "stdout",
     "output_type": "stream",
     "text": [
      "Immagine 6 scaricata con successo: https://encrypted-tbn0.gstatic.com/images?q=tbn:ANd9GcSG33usRax0XzpNTLdePJxCmTOcNACa257L5kNQLlTUIduwXEPqfiNm_2OA3A&s\n"
     ]
    },
    {
     "name": "stderr",
     "output_type": "stream",
     "text": [
      "HTTP request sent, awaiting response... 200 OK\n",
      "Length: 2950 (2.9K) [image/jpeg]\n",
      "Saving to: 'gattini_images/image_7.jpg'\n",
      "\n",
      "     0K ..                                                    100% 70.7K=0.04s\n",
      "\n",
      "2024-09-20 17:47:45 (70.7 KB/s) - 'gattini_images/image_7.jpg' saved [2950/2950]\n",
      "\n",
      "--2024-09-20 17:47:45--  https://encrypted-tbn0.gstatic.com/images?q=tbn:ANd9GcQiUUNm2kJWXfL1JOtSrF3ouLdvjKsGmRkDjZtfeR1NeVO0L-bMoxDE_-sFT0o&s\n",
      "Resolving encrypted-tbn0.gstatic.com (encrypted-tbn0.gstatic.com)... 216.58.205.46, 2a00:1450:4002:416::200e\n",
      "Connecting to encrypted-tbn0.gstatic.com (encrypted-tbn0.gstatic.com)|216.58.205.46|:443... connected.\n",
      "HTTP request sent, awaiting response... 200 OK\n",
      "Length: 3511 (3.4K) [image/jpeg]\n",
      "Saving to: 'gattini_images/image_8.jpg'\n",
      "\n",
      "     0K ...                                                   100% 22.6M=0s\n",
      "\n",
      "2024-09-20 17:47:45 (22.6 MB/s) - 'gattini_images/image_8.jpg' saved [3511/3511]\n",
      "\n"
     ]
    },
    {
     "name": "stdout",
     "output_type": "stream",
     "text": [
      "Immagine 7 scaricata con successo: https://encrypted-tbn0.gstatic.com/images?q=tbn:ANd9GcTq5BWMnWOtTEJ8wQ1jOiYwsnvrGSe7XGNhXhBnrLtweHrhCo-V4UkrgFI2bA&s\n",
      "Immagine 8 scaricata con successo: https://encrypted-tbn0.gstatic.com/images?q=tbn:ANd9GcQiUUNm2kJWXfL1JOtSrF3ouLdvjKsGmRkDjZtfeR1NeVO0L-bMoxDE_-sFT0o&s\n"
     ]
    },
    {
     "name": "stderr",
     "output_type": "stream",
     "text": [
      "--2024-09-20 17:47:45--  https://encrypted-tbn0.gstatic.com/images?q=tbn:ANd9GcSYxKsTEiJG0EVZcANf0rdsGIczjkl__1jd1o-BLCRfxCX9lnicYed_MZGJdg&s\n",
      "Resolving encrypted-tbn0.gstatic.com (encrypted-tbn0.gstatic.com)... 216.58.205.46, 2a00:1450:4002:416::200e\n",
      "Connecting to encrypted-tbn0.gstatic.com (encrypted-tbn0.gstatic.com)|216.58.205.46|:443... connected.\n",
      "HTTP request sent, awaiting response... 200 OK\n",
      "Length: 3306 (3.2K) [image/jpeg]\n",
      "Saving to: 'gattini_images/image_9.jpg'\n",
      "\n",
      "     0K ...                                                   100% 35.8M=0s\n",
      "\n",
      "2024-09-20 17:47:45 (35.8 MB/s) - 'gattini_images/image_9.jpg' saved [3306/3306]\n",
      "\n",
      "--2024-09-20 17:47:45--  https://encrypted-tbn0.gstatic.com/images?q=tbn:ANd9GcQ0O3x7XiALQks75ipONZvsiWN2OJ6x7bss6RQVL3-JO23-oN2NqnKRBd8YBpg&s\n",
      "Resolving encrypted-tbn0.gstatic.com (encrypted-tbn0.gstatic.com)... 216.58.205.46, 2a00:1450:4002:416::200e\n",
      "Connecting to encrypted-tbn0.gstatic.com (encrypted-tbn0.gstatic.com)|216.58.205.46|:443... connected.\n"
     ]
    },
    {
     "name": "stdout",
     "output_type": "stream",
     "text": [
      "Immagine 9 scaricata con successo: https://encrypted-tbn0.gstatic.com/images?q=tbn:ANd9GcSYxKsTEiJG0EVZcANf0rdsGIczjkl__1jd1o-BLCRfxCX9lnicYed_MZGJdg&s\n"
     ]
    },
    {
     "name": "stderr",
     "output_type": "stream",
     "text": [
      "HTTP request sent, awaiting response... 200 OK\n",
      "Length: 3958 (3.9K) [image/jpeg]\n",
      "Saving to: 'gattini_images/image_10.jpg'\n",
      "\n",
      "     0K ...                                                   100% 39.7M=0s\n",
      "\n",
      "2024-09-20 17:47:45 (39.7 MB/s) - 'gattini_images/image_10.jpg' saved [3958/3958]\n",
      "\n",
      "--2024-09-20 17:47:45--  https://encrypted-tbn0.gstatic.com/images?q=tbn:ANd9GcTMiHzOOM3OSMn0UV1i5g_3wfUrlSsfwJ6wkowhKmcyHGS6F8DzdETPp98Mxg&s\n",
      "Resolving encrypted-tbn0.gstatic.com (encrypted-tbn0.gstatic.com)... 216.58.205.46, 2a00:1450:4002:416::200e\n",
      "Connecting to encrypted-tbn0.gstatic.com (encrypted-tbn0.gstatic.com)|216.58.205.46|:443... connected.\n",
      "HTTP request sent, awaiting response... 200 OK\n",
      "Length: 2853 (2.8K) [image/jpeg]\n",
      "Saving to: 'gattini_images/image_11.jpg'\n",
      "\n",
      "     0K ..                                                    100% 36.3M=0s\n",
      "\n",
      "2024-09-20 17:47:45 (36.3 MB/s) - 'gattini_images/image_11.jpg' saved [2853/2853]\n",
      "\n",
      "--2024-09-20 17:47:45--  https://encrypted-tbn0.gstatic.com/images?q=tbn:ANd9GcS5CccOIJzef8KI_sAQ-38YpJWWIB2n-Z9g8UXli_pySm89IPpVEIytU5oJJw&s\n"
     ]
    },
    {
     "name": "stdout",
     "output_type": "stream",
     "text": [
      "Immagine 10 scaricata con successo: https://encrypted-tbn0.gstatic.com/images?q=tbn:ANd9GcQ0O3x7XiALQks75ipONZvsiWN2OJ6x7bss6RQVL3-JO23-oN2NqnKRBd8YBpg&s\n",
      "Immagine 11 scaricata con successo: https://encrypted-tbn0.gstatic.com/images?q=tbn:ANd9GcTMiHzOOM3OSMn0UV1i5g_3wfUrlSsfwJ6wkowhKmcyHGS6F8DzdETPp98Mxg&s\n"
     ]
    },
    {
     "name": "stderr",
     "output_type": "stream",
     "text": [
      "Resolving encrypted-tbn0.gstatic.com (encrypted-tbn0.gstatic.com)... 216.58.205.46, 2a00:1450:4002:416::200e\n",
      "Connecting to encrypted-tbn0.gstatic.com (encrypted-tbn0.gstatic.com)|216.58.205.46|:443... connected.\n",
      "HTTP request sent, awaiting response... 200 OK\n",
      "Length: 3313 (3.2K) [image/jpeg]\n",
      "Saving to: 'gattini_images/image_12.jpg'\n",
      "\n",
      "     0K ...                                                   100% 36.7M=0s\n",
      "\n",
      "2024-09-20 17:47:45 (36.7 MB/s) - 'gattini_images/image_12.jpg' saved [3313/3313]\n",
      "\n",
      "--2024-09-20 17:47:45--  https://encrypted-tbn0.gstatic.com/images?q=tbn:ANd9GcSjQyX4jWzf8iuSHu4mOqthMmM6qVFakpckBlbt0mQ0L-FqWS79RdKRkbgoupM&s\n"
     ]
    },
    {
     "name": "stdout",
     "output_type": "stream",
     "text": [
      "Immagine 12 scaricata con successo: https://encrypted-tbn0.gstatic.com/images?q=tbn:ANd9GcS5CccOIJzef8KI_sAQ-38YpJWWIB2n-Z9g8UXli_pySm89IPpVEIytU5oJJw&s\n"
     ]
    },
    {
     "name": "stderr",
     "output_type": "stream",
     "text": [
      "Resolving encrypted-tbn0.gstatic.com (encrypted-tbn0.gstatic.com)... 216.58.205.46, 2a00:1450:4002:416::200e\n",
      "Connecting to encrypted-tbn0.gstatic.com (encrypted-tbn0.gstatic.com)|216.58.205.46|:443... connected.\n",
      "HTTP request sent, awaiting response... 200 OK\n",
      "Length: 4462 (4.4K) [image/jpeg]\n",
      "Saving to: 'gattini_images/image_13.jpg'\n",
      "\n",
      "     0K ....                                                  100% 20.4M=0s\n",
      "\n",
      "2024-09-20 17:47:46 (20.4 MB/s) - 'gattini_images/image_13.jpg' saved [4462/4462]\n",
      "\n",
      "--2024-09-20 17:47:46--  https://encrypted-tbn0.gstatic.com/images?q=tbn:ANd9GcRxkz1G9xjBMxnLAoW7rU9OLffOnXaU-hSiq2MvyXCRDYIwLdXWoAnJt6IMEA&s\n"
     ]
    },
    {
     "name": "stdout",
     "output_type": "stream",
     "text": [
      "Immagine 13 scaricata con successo: https://encrypted-tbn0.gstatic.com/images?q=tbn:ANd9GcSjQyX4jWzf8iuSHu4mOqthMmM6qVFakpckBlbt0mQ0L-FqWS79RdKRkbgoupM&s\n",
      "Immagine 14 scaricata con successo: https://encrypted-tbn0.gstatic.com/images?q=tbn:ANd9GcRxkz1G9xjBMxnLAoW7rU9OLffOnXaU-hSiq2MvyXCRDYIwLdXWoAnJt6IMEA&s\n"
     ]
    },
    {
     "name": "stderr",
     "output_type": "stream",
     "text": [
      "Resolving encrypted-tbn0.gstatic.com (encrypted-tbn0.gstatic.com)... 216.58.205.46, 2a00:1450:4002:416::200e\n",
      "Connecting to encrypted-tbn0.gstatic.com (encrypted-tbn0.gstatic.com)|216.58.205.46|:443... connected.\n",
      "HTTP request sent, awaiting response... 200 OK\n",
      "Length: 2340 (2.3K) [image/jpeg]\n",
      "Saving to: 'gattini_images/image_14.jpg'\n",
      "\n",
      "     0K ..                                                    100% 27.6M=0s\n",
      "\n",
      "2024-09-20 17:47:46 (27.6 MB/s) - 'gattini_images/image_14.jpg' saved [2340/2340]\n",
      "\n",
      "--2024-09-20 17:47:46--  https://encrypted-tbn0.gstatic.com/images?q=tbn:ANd9GcRGY7xBenu3rucjKQp6xyZEEgojChA3t7jGeB_aQmt-bSJVkcH9CIRh5E3JPa0&s\n",
      "Resolving encrypted-tbn0.gstatic.com (encrypted-tbn0.gstatic.com)... 216.58.205.46, 2a00:1450:4002:416::200e\n",
      "Connecting to encrypted-tbn0.gstatic.com (encrypted-tbn0.gstatic.com)|216.58.205.46|:443... connected.\n",
      "HTTP request sent, awaiting response... 200 OK\n",
      "Length: 3826 (3.7K) [image/jpeg]\n",
      "Saving to: 'gattini_images/image_15.jpg'\n",
      "\n",
      "     0K ...                                                   100% 40.5M=0s\n",
      "\n",
      "2024-09-20 17:47:46 (40.5 MB/s) - 'gattini_images/image_15.jpg' saved [3826/3826]\n",
      "\n",
      "--2024-09-20 17:47:46--  https://encrypted-tbn0.gstatic.com/images?q=tbn:ANd9GcQrtk3VV_Go2UvrdBN7AoSaHdJx4ExF3DDqrT3BNHH9ZyVc_fADC386-IDMzA&s\n"
     ]
    },
    {
     "name": "stdout",
     "output_type": "stream",
     "text": [
      "Immagine 15 scaricata con successo: https://encrypted-tbn0.gstatic.com/images?q=tbn:ANd9GcRGY7xBenu3rucjKQp6xyZEEgojChA3t7jGeB_aQmt-bSJVkcH9CIRh5E3JPa0&s\n",
      "Immagine 16 scaricata con successo: https://encrypted-tbn0.gstatic.com/images?q=tbn:ANd9GcQrtk3VV_Go2UvrdBN7AoSaHdJx4ExF3DDqrT3BNHH9ZyVc_fADC386-IDMzA&s\n"
     ]
    },
    {
     "name": "stderr",
     "output_type": "stream",
     "text": [
      "Resolving encrypted-tbn0.gstatic.com (encrypted-tbn0.gstatic.com)... 216.58.205.46, 2a00:1450:4002:416::200e\n",
      "Connecting to encrypted-tbn0.gstatic.com (encrypted-tbn0.gstatic.com)|216.58.205.46|:443... connected.\n",
      "HTTP request sent, awaiting response... 200 OK\n",
      "Length: 3703 (3.6K) [image/jpeg]\n",
      "Saving to: 'gattini_images/image_16.jpg'\n",
      "\n",
      "     0K ...                                                   100% 33.3M=0s\n",
      "\n",
      "2024-09-20 17:47:46 (33.3 MB/s) - 'gattini_images/image_16.jpg' saved [3703/3703]\n",
      "\n",
      "--2024-09-20 17:47:46--  https://encrypted-tbn0.gstatic.com/images?q=tbn:ANd9GcRnTu_fE1O2A1zbTuWt-yUJAS-2DX2jxbS4WU5WVwbTOAv8d6Udhp6Fz61GYw&s\n",
      "Resolving encrypted-tbn0.gstatic.com (encrypted-tbn0.gstatic.com)... 216.58.205.46, 2a00:1450:4002:416::200e\n",
      "Connecting to encrypted-tbn0.gstatic.com (encrypted-tbn0.gstatic.com)|216.58.205.46|:443... connected.\n",
      "HTTP request sent, awaiting response... 200 OK\n",
      "Length: 3639 (3.6K) [image/jpeg]\n",
      "Saving to: 'gattini_images/image_17.jpg'\n",
      "\n",
      "     0K ...                                                   100% 24.4M=0s\n",
      "\n",
      "2024-09-20 17:47:46 (24.4 MB/s) - 'gattini_images/image_17.jpg' saved [3639/3639]\n",
      "\n",
      "--2024-09-20 17:47:46--  https://encrypted-tbn0.gstatic.com/images?q=tbn:ANd9GcTiR5SAO_q7ukl-29Mfm1k3DK_kt33M4Z_JviMKwdcFiT2oP9dVLDrUwVE_lA&s\n"
     ]
    },
    {
     "name": "stdout",
     "output_type": "stream",
     "text": [
      "Immagine 17 scaricata con successo: https://encrypted-tbn0.gstatic.com/images?q=tbn:ANd9GcRnTu_fE1O2A1zbTuWt-yUJAS-2DX2jxbS4WU5WVwbTOAv8d6Udhp6Fz61GYw&s\n",
      "Immagine 18 scaricata con successo: https://encrypted-tbn0.gstatic.com/images?q=tbn:ANd9GcTiR5SAO_q7ukl-29Mfm1k3DK_kt33M4Z_JviMKwdcFiT2oP9dVLDrUwVE_lA&s\n"
     ]
    },
    {
     "name": "stderr",
     "output_type": "stream",
     "text": [
      "Resolving encrypted-tbn0.gstatic.com (encrypted-tbn0.gstatic.com)... 216.58.205.46, 2a00:1450:4002:416::200e\n",
      "Connecting to encrypted-tbn0.gstatic.com (encrypted-tbn0.gstatic.com)|216.58.205.46|:443... connected.\n",
      "HTTP request sent, awaiting response... 200 OK\n",
      "Length: 3660 (3.6K) [image/jpeg]\n",
      "Saving to: 'gattini_images/image_18.jpg'\n",
      "\n",
      "     0K ...                                                   100% 39.2M=0s\n",
      "\n",
      "2024-09-20 17:47:46 (39.2 MB/s) - 'gattini_images/image_18.jpg' saved [3660/3660]\n",
      "\n",
      "--2024-09-20 17:47:46--  https://encrypted-tbn0.gstatic.com/images?q=tbn:ANd9GcTIkgQBUVv6ItOx1X11BoMJPmB0ks9VUCAOe2n7DSwggqs-yO7ZcG1VAUqQRQ&s\n",
      "Resolving encrypted-tbn0.gstatic.com (encrypted-tbn0.gstatic.com)... 216.58.205.46, 2a00:1450:4002:416::200e\n",
      "Connecting to encrypted-tbn0.gstatic.com (encrypted-tbn0.gstatic.com)|216.58.205.46|:443... connected.\n",
      "HTTP request sent, awaiting response... 200 OK\n",
      "Length: 3046 (3.0K) [image/jpeg]\n",
      "Saving to: 'gattini_images/image_19.jpg'\n",
      "\n",
      "     0K ..                                                    100% 40.9M=0s\n",
      "\n",
      "2024-09-20 17:47:47 (40.9 MB/s) - 'gattini_images/image_19.jpg' saved [3046/3046]\n",
      "\n",
      "--2024-09-20 17:47:47--  https://encrypted-tbn0.gstatic.com/images?q=tbn:ANd9GcTl9uh6H_1-GyLluc-1nujAZSop8SVpexJAKQH4DIvo4UgrIzSnEhyTdR18iwY&s\n",
      "Resolving encrypted-tbn0.gstatic.com (encrypted-tbn0.gstatic.com)... 216.58.205.46, 2a00:1450:4002:416::200e\n",
      "Connecting to encrypted-tbn0.gstatic.com (encrypted-tbn0.gstatic.com)|216.58.205.46|:443... connected.\n"
     ]
    },
    {
     "name": "stdout",
     "output_type": "stream",
     "text": [
      "Immagine 19 scaricata con successo: https://encrypted-tbn0.gstatic.com/images?q=tbn:ANd9GcTIkgQBUVv6ItOx1X11BoMJPmB0ks9VUCAOe2n7DSwggqs-yO7ZcG1VAUqQRQ&s\n"
     ]
    },
    {
     "name": "stderr",
     "output_type": "stream",
     "text": [
      "HTTP request sent, awaiting response... 200 OK\n",
      "Length: 2686 (2.6K) [image/jpeg]\n",
      "Saving to: 'gattini_images/image_20.jpg'\n",
      "\n",
      "     0K ..                                                    100% 35.6M=0s\n",
      "\n",
      "2024-09-20 17:47:47 (35.6 MB/s) - 'gattini_images/image_20.jpg' saved [2686/2686]\n",
      "\n",
      "--2024-09-20 17:47:47--  https://encrypted-tbn0.gstatic.com/images?q=tbn:ANd9GcRxVJqvrpyRbsg-Oy_8MLz_xZezcTjtPPUZaDeZt9IrtmmFax213epEAd1tKw&s\n",
      "Resolving encrypted-tbn0.gstatic.com (encrypted-tbn0.gstatic.com)... 216.58.205.46, 2a00:1450:4002:416::200e\n",
      "Connecting to encrypted-tbn0.gstatic.com (encrypted-tbn0.gstatic.com)|216.58.205.46|:443... connected.\n"
     ]
    },
    {
     "name": "stdout",
     "output_type": "stream",
     "text": [
      "Immagine 20 scaricata con successo: https://encrypted-tbn0.gstatic.com/images?q=tbn:ANd9GcTl9uh6H_1-GyLluc-1nujAZSop8SVpexJAKQH4DIvo4UgrIzSnEhyTdR18iwY&s\n",
      "Immagine 21 scaricata con successo: https://encrypted-tbn0.gstatic.com/images?q=tbn:ANd9GcRxVJqvrpyRbsg-Oy_8MLz_xZezcTjtPPUZaDeZt9IrtmmFax213epEAd1tKw&s\n"
     ]
    },
    {
     "name": "stderr",
     "output_type": "stream",
     "text": [
      "HTTP request sent, awaiting response... 200 OK\n",
      "Length: 5290 (5.2K) [image/jpeg]\n",
      "Saving to: 'gattini_images/image_21.jpg'\n",
      "\n",
      "     0K .....                                                 100% 15.8M=0s\n",
      "\n",
      "2024-09-20 17:47:47 (15.8 MB/s) - 'gattini_images/image_21.jpg' saved [5290/5290]\n",
      "\n"
     ]
    }
   ],
   "source": [
    "\"\"\"\n",
    "questo scraper permette di scaricare da google immagini\n",
    "disattivando il filtro safesearch.\n",
    "\n",
    "Per utilizzare lo scraper sostituire la query IN FONDO AL CODICE.\n",
    "\n",
    "\"\"\"\n",
    "\n",
    "import os\n",
    "import mechanicalsoup\n",
    "import subprocess\n",
    "import wget\n",
    "from urllib.parse import urlparse, parse_qs\n",
    "\n",
    "def download_images(query, safe_search=False):\n",
    "    browser = mechanicalsoup.Browser()\n",
    "\n",
    "    #A seconda del parametro settato viene aggiunto o no il tag al url\n",
    "    search_url = f\"https://www.google.com/search?q={query}&tbm=isch\"\n",
    "    if not safe_search:\n",
    "        search_url += \"&safe=off\"\n",
    "\n",
    "    # restituisce la pagina cercata\n",
    "    page = browser.get(search_url)\n",
    "\n",
    "    # fa il parsing dell'hatml\n",
    "    soup = page.soup\n",
    "\n",
    "    # Cerca gli elementi img\n",
    "    image_elements = soup.find_all('img')\n",
    "\n",
    "    # crea una cartella col nome della query\n",
    "    download_folder = f'{query}_images'\n",
    "    os.makedirs(download_folder, exist_ok=True)\n",
    "\n",
    "   # itera su ogni elemento img\n",
    "    for index, img in enumerate(image_elements, 1):\n",
    "        img_url = img.get('src')\n",
    "\n",
    "        # se non trova l'url skippa\n",
    "        if not img_url:\n",
    "            continue\n",
    "\n",
    "        # se l'urls non è assouluto lo ricostruisce dal relativo\n",
    "        if not img_url.startswith('http'):\n",
    "            img_url = page.url + img_url\n",
    "\n",
    "        # usa wget per scaricare l'immagine\n",
    "        image_filename = os.path.join(download_folder, f'image_{index}.jpg')\n",
    "        subprocess.run(['wget', img_url, '-O', image_filename])\n",
    "\n",
    "        print(f\"Immagine {index} scaricata con successo: {img_url}\")\n",
    "\n",
    "if __name__ == \"__main__\":\n",
    "   #Sostituisci la tua query\n",
    "    query_to_search = 'gattini'\n",
    "\n",
    "    #Setta safesearch true (attiva) o false(non attiva)\n",
    "    download_images(query_to_search, safe_search=False)"
   ]
  }
 ],
 "metadata": {
  "colab": {
   "provenance": []
  },
  "kernelspec": {
   "display_name": "Python 3 (ipykernel)",
   "language": "python",
   "name": "python3"
  },
  "language_info": {
   "codemirror_mode": {
    "name": "ipython",
    "version": 3
   },
   "file_extension": ".py",
   "mimetype": "text/x-python",
   "name": "python",
   "nbconvert_exporter": "python",
   "pygments_lexer": "ipython3",
   "version": "3.11.9"
  }
 },
 "nbformat": 4,
 "nbformat_minor": 4
}
